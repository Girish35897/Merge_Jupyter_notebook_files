{
 "cells": [
  {
   "cell_type": "markdown",
   "id": "787f91c0",
   "metadata": {},
   "source": [
    "# Merging two .ipynb files into single .ipynb"
   ]
  },
  {
   "cell_type": "code",
   "execution_count": 2,
   "id": "cc334380",
   "metadata": {},
   "outputs": [
    {
     "data": {
      "text/plain": [
       "['File-1.ipynb', 'File-2.ipynb', 'Merge_Files_Code.ipynb']"
      ]
     },
     "execution_count": 2,
     "metadata": {},
     "output_type": "execute_result"
    }
   ],
   "source": [
    "#Importing the required modules\n",
    "import json\n",
    "import os\n",
    "\n",
    "#Getting the list of files present in the current working directory\n",
    "notebooks = [file for file in os.listdir(os.getcwd()) if file.endswith('.ipynb')]\n",
    "\n",
    "notebooks"
   ]
  },
  {
   "cell_type": "code",
   "execution_count": 3,
   "id": "e39fe45d",
   "metadata": {},
   "outputs": [],
   "source": [
    "#Merge two notebooks\n",
    "def combine_notebook(notebook1, notebook2, combined_file_name):\n",
    "    \n",
    "    with open (notebook1, mode='r', encoding='utf-8') as f:\n",
    "        a = json.load(f)\n",
    "        \n",
    "    with open (notebook2, mode='r', encoding='utf-8') as f:\n",
    "        b = json.load(f)\n",
    "        a['cells'].extend (b['cells'])\n",
    "        print(f'merging: {notebook1}, {notebook2}')   \n",
    "    \n",
    "    with open (combined_file_name, mode='w', encoding='utf-8') as n:\n",
    "        json.dump(a, n)\n",
    "        \n",
    "    print('Generated files: {}'.format(combined_file_name))\n",
    "    return (os.path.realpath(combined_file_name))"
   ]
  },
  {
   "cell_type": "code",
   "execution_count": 4,
   "id": "e2ba9e92",
   "metadata": {},
   "outputs": [
    {
     "name": "stdout",
     "output_type": "stream",
     "text": [
      "merging: File-1.ipynb, File-2.ipynb\n",
      "Generated files: Merged_File.ipynb\n"
     ]
    },
    {
     "data": {
      "text/plain": [
       "'C:\\\\Users\\\\Lucky Girish\\\\PG- Data Science,Machine Learning & Neural Networks\\\\Cognitive\\\\Blog\\\\Merged_File.ipynb'"
      ]
     },
     "execution_count": 4,
     "metadata": {},
     "output_type": "execute_result"
    }
   ],
   "source": [
    "#Calling the custom function\n",
    "combine_notebook('File-1.ipynb','File-2.ipynb','Merged_File.ipynb')"
   ]
  }
 ],
 "metadata": {
  "kernelspec": {
   "display_name": "Python 3 (ipykernel)",
   "language": "python",
   "name": "python3"
  },
  "language_info": {
   "codemirror_mode": {
    "name": "ipython",
    "version": 3
   },
   "file_extension": ".py",
   "mimetype": "text/x-python",
   "name": "python",
   "nbconvert_exporter": "python",
   "pygments_lexer": "ipython3",
   "version": "3.9.7"
  }
 },
 "nbformat": 4,
 "nbformat_minor": 5
}
